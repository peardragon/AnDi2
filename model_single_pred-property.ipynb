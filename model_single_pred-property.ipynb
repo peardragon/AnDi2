{
 "cells": [
  {
   "cell_type": "code",
   "execution_count": 3,
   "id": "7986c831-210b-46f4-8f02-8d166ea33a59",
   "metadata": {},
   "outputs": [],
   "source": [
    "import numpy as np\n",
    "import matplotlib.pyplot as plt\n",
    "import pickle\n",
    "from tqdm import tqdm\n",
    "\n",
    "import torch\n",
    "import torch.nn as nn\n",
    "import torch.optim as optim\n",
    "\n",
    "from utils.train import *\n",
    "from utils.dataloader import *\n",
    "from utils.resnet import resnet34_andi, resnet18_andi"
   ]
  },
  {
   "cell_type": "code",
   "execution_count": 4,
   "id": "5e8de6e8-c56e-43e0-8e0f-3cc924b75318",
   "metadata": {},
   "outputs": [],
   "source": [
    "import random\n",
    "random.seed(42)\n",
    "\n",
    "dataset_size = 1 # Challenge 150\n",
    "num_epochs = 100\n",
    "\n",
    "device = \"cuda\""
   ]
  },
  {
   "cell_type": "markdown",
   "id": "c2511e19-bb11-470d-bffe-75845b54f983",
   "metadata": {},
   "source": [
    "# Dataset Preparation : Anomalous Exponent"
   ]
  },
  {
   "cell_type": "code",
   "execution_count": 5,
   "id": "d48ca576-0d46-4deb-b93e-895ee3c5181b",
   "metadata": {},
   "outputs": [
    {
     "name": "stderr",
     "output_type": "stream",
     "text": [
      "100%|██████████| 1/1 [00:00<00:00,  6.31it/s]\n"
     ]
    },
    {
     "data": {
      "text/plain": [
       "22"
      ]
     },
     "execution_count": 5,
     "metadata": {},
     "output_type": "execute_result"
    }
   ],
   "source": [
    "X_dict = {f\"{feat}\":[] for feat in [\"feat\"]}\n",
    "y_dict = {f\"{feat}\":[] for feat in [\"a\"]}\n",
    "\n",
    "for i in tqdm(range(dataset_size)):\n",
    "\n",
    "    X = np.load(f\"./ds_single/ds_{i}.npy\", allow_pickle=True)\n",
    "    y = np.load(f\"./ds_single/ds_label_{i}.npy\", allow_pickle=True)\n",
    "\n",
    "    ### TO Tensor\n",
    "    X = torch.Tensor(X).squeeze().unsqueeze(axis=2).type(torch.Tensor)\n",
    "    \n",
    "    y_a = torch.Tensor(y[:,2])\n",
    "    \n",
    "    X_dict[\"feat\"].append(X)\n",
    "    y_dict[\"a\"].append(y_a)\n",
    "\n",
    "train_dataloader_dict = {f\"{feat}\":[] for feat in [\"a\"]}\n",
    "valid_dataloader_dict = {f\"{feat}\":[] for feat in [\"a\"]}\n",
    "\n",
    "g = torch.Generator()\n",
    "g.manual_seed(42)\n",
    "\n",
    "for feat in [\"a\"]:\n",
    "    X = X_dict[\"feat\"]\n",
    "    y = y_dict[feat]\n",
    "    X = torch.cat(X)\n",
    "    y = torch.cat(y)\n",
    "    dataset = AnDiDataset(X, y)\n",
    "\n",
    "    # ## split\n",
    "    train_set, val_set = torch.utils.data.random_split(dataset, [0.7, 0.3], generator=g)\n",
    "    \n",
    "    train_loader = DataLoader(train_set, batch_size=256, collate_fn=collate_fn, generator=g, shuffle=True)\n",
    "    \n",
    "    valid_loader = DataLoader(val_set, batch_size=64, collate_fn=collate_fn, generator=g, shuffle=True)\n",
    "\n",
    "    train_dataloader_dict[f\"{feat}\"] = train_loader\n",
    "    valid_dataloader_dict[f\"{feat}\"] = valid_loader\n",
    "\n",
    "del X, y\n",
    "import gc\n",
    "gc.collect()"
   ]
  },
  {
   "cell_type": "markdown",
   "id": "ab7af311-2986-4c3c-b2a4-88e0187ddeee",
   "metadata": {},
   "source": [
    "# Model Training : Anomalous Exponent\n",
    "## Default setting: resnet34(for andi) + custom warmstart scheduler + L1Loss"
   ]
  },
  {
   "cell_type": "code",
   "execution_count": 7,
   "id": "622a4fe1-bfbe-4711-bfa0-6ed537ab83ae",
   "metadata": {},
   "outputs": [
    {
     "name": "stdout",
     "output_type": "stream",
     "text": [
      "Best Model Exist\n",
      "26 0.10841597628754615\n"
     ]
    },
    {
     "data": {
      "image/png": "[encoded data removed]",
      "text/plain": [
       "<Figure size 640x480 with 1 Axes>"
      ]
     },
     "metadata": {},
     "output_type": "display_data"
    }
   ],
   "source": [
    "feat = \"a\"\n",
    "\n",
    "model_name=f'predictor_{feat}_full_150'\n",
    "# resnet34 / Scheduler / L1Loss \n",
    "\n",
    "model = resnet34_andi(output_dim=1, output_num=1, problem_type=\"a\")\n",
    "\n",
    "criterion = nn.L1Loss()\n",
    "\n",
    "train_dataloader = train_dataloader_dict[\"a\"]\n",
    "valid_dataloader = valid_dataloader_dict[\"a\"]\n",
    "\n",
    "\n",
    "\n",
    "model, total_train_loss, total_valid_loss = train(model, train_dataloader, valid_dataloader,\n",
    "                                                  criterion, \n",
    "                                                  # optimizer=optimizer, scheduler=scheduler,\n",
    "                                                  num_epochs=num_epochs, device=device,  model_name=model_name,\n",
    "                                                  tag=f\"{feat}\")\n",
    "if os.path.exists(f\"./model/loss/{model_name}_{feat}.npy\") and total_train_loss is None:\n",
    "    total_train_loss, total_valid_loss = np.load(f\"./model/loss/{model_name}_{feat}.npy\")\n",
    "else:\n",
    "    np.save(f\"./model/loss/{model_name}_{feat}.npy\", np.array([total_train_loss, total_valid_loss]))\n",
    "\n",
    "print(np.argmin(total_valid_loss), np.min(total_valid_loss))\n",
    "\n",
    "\n",
    "plt.plot(total_train_loss)\n",
    "plt.plot(total_valid_loss)\n",
    "plt.title(f\"{feat}\")\n",
    "plt.show()\n",
    "# plt.savefig(\"a_loss.png\")"
   ]
  },
  {
   "cell_type": "markdown",
   "id": "0590e166-3d17-4f0a-827c-91ceedc6dbcb",
   "metadata": {},
   "source": [
    "# Dataset Preparation : Diffusion Coefficient"
   ]
  },
  {
   "cell_type": "code",
   "execution_count": 8,
   "id": "079828fc-bb6c-49cb-8bc5-c6bdc08b74b5",
   "metadata": {},
   "outputs": [
    {
     "name": "stderr",
     "output_type": "stream",
     "text": [
      "100%|██████████| 1/1 [00:00<00:00,  7.88it/s]\n"
     ]
    },
    {
     "data": {
      "text/plain": [
       "4055"
      ]
     },
     "execution_count": 8,
     "metadata": {},
     "output_type": "execute_result"
    }
   ],
   "source": [
    "X_dict = {f\"{feat}\":[] for feat in [\"feat\"]}\n",
    "y_dict = {f\"{feat}\":[] for feat in [\"k\"]}\n",
    "\n",
    "for i in tqdm(range(dataset_size)):\n",
    "\n",
    "    X = np.load(f\"./ds_single/ds_{i}.npy\", allow_pickle=True)\n",
    "    y = np.load(f\"./ds_single/ds_label_{i}.npy\", allow_pickle=True)\n",
    "\n",
    "    ### TO Tensor\n",
    "    X = torch.Tensor(X).squeeze().unsqueeze(axis=2).type(torch.Tensor)\n",
    "    \n",
    "    y = torch.Tensor(y[:,1])\n",
    "    \n",
    "    X_dict[\"feat\"].append(X)\n",
    "    y_dict[\"k\"].append(y)\n",
    "\n",
    "train_dataloader_dict = {f\"{feat}\":[] for feat in [\"k\"]}\n",
    "valid_dataloader_dict = {f\"{feat}\":[] for feat in [\"k\"]}\n",
    "\n",
    "g = torch.Generator()\n",
    "g.manual_seed(42)\n",
    "\n",
    "for feat in [\"k\"]:\n",
    "    X = X_dict[\"feat\"]\n",
    "    y = y_dict[feat]\n",
    "    X = torch.cat(X)\n",
    "    y = torch.cat(y)\n",
    "    dataset = AnDiDataset(X, y)\n",
    "\n",
    "    # ## split\n",
    "    train_set, val_set = torch.utils.data.random_split(dataset, [0.7, 0.3], generator=g)\n",
    "    \n",
    "    train_loader = DataLoader(train_set, batch_size=256, collate_fn=collate_fn, generator=g, shuffle=True)\n",
    "    \n",
    "    valid_loader = DataLoader(val_set, batch_size=64, collate_fn=collate_fn, generator=g, shuffle=True)\n",
    "\n",
    "    train_dataloader_dict[f\"{feat}\"] = train_loader\n",
    "    valid_dataloader_dict[f\"{feat}\"] = valid_loader\n",
    "\n",
    "del X, y\n",
    "import gc\n",
    "gc.collect()"
   ]
  },
  {
   "cell_type": "markdown",
   "id": "2876bffc-8a94-45a3-9799-45d2f5f0e3be",
   "metadata": {},
   "source": [
    "# Model Training : Diffusion Coefficient\n",
    "## Default setting: resnet34(for andi) + custom warmstart scheduler + MSLELoss"
   ]
  },
  {
   "cell_type": "code",
   "execution_count": 9,
   "id": "1099351a-63f5-4428-82f3-74d0bcb513d5",
   "metadata": {},
   "outputs": [
    {
     "name": "stdout",
     "output_type": "stream",
     "text": [
      "Best Model Exist\n",
      "49 0.15162916361411488\n"
     ]
    },
    {
     "data": {
      "image/png": "[encoded data removed]",
      "text/plain": [
       "<Figure size 640x480 with 1 Axes>"
      ]
     },
     "metadata": {},
     "output_type": "display_data"
    }
   ],
   "source": [
    "feat = \"k\"\n",
    "\n",
    "model_name=f'predictor_{feat}_full_150'\n",
    "# resnet34 / Scheduler / MSELELoss\n",
    "\n",
    "model = resnet34_andi(output_dim=1, output_num=1, problem_type=\"k\")\n",
    "\n",
    "def MSLELoss(outputs, labels):\n",
    "    return torch.sqrt(torch.mean((torch.log(outputs+1)-torch.log(labels+1))**2))\n",
    "criterion = MSLELoss\n",
    "\n",
    "train_dataloader = train_dataloader_dict[\"k\"]\n",
    "valid_dataloader = valid_dataloader_dict[\"k\"]\n",
    "\n",
    "\n",
    "model, total_train_loss, total_valid_loss = train(model, train_dataloader, valid_dataloader,\n",
    "                                                  criterion, \n",
    "                                                  # optimizer=optimizer, scheduler=scheduler,\n",
    "                                                  num_epochs=num_epochs, device=device,  model_name=model_name,\n",
    "                                                  tag=f\"{feat}\")\n",
    "if os.path.exists(f\"./model/loss/{model_name}_{feat}.npy\") and total_train_loss is None:\n",
    "    total_train_loss, total_valid_loss = np.load(f\"./model/loss/{model_name}_{feat}.npy\")\n",
    "else:\n",
    "    np.save(f\"./model/loss/{model_name}_{feat}.npy\", np.array([total_train_loss, total_valid_loss]))\n",
    "\n",
    "print(np.argmin(total_valid_loss), np.min(total_valid_loss))\n",
    "\n",
    "\n",
    "plt.plot(total_train_loss)\n",
    "plt.plot(total_valid_loss)\n",
    "plt.title(f\"{feat}\")\n",
    "plt.show()\n",
    "# plt.savefig(\"k_loss.png\")"
   ]
  },
  {
   "cell_type": "markdown",
   "id": "a83c089f-2a3b-4536-b2d3-47175c63d360",
   "metadata": {},
   "source": [
    "# Dataset Preparation : Diffusion State"
   ]
  },
  {
   "cell_type": "code",
   "execution_count": 10,
   "id": "e2e630d4-a0e4-4c75-99dc-e35f54620b77",
   "metadata": {},
   "outputs": [
    {
     "name": "stderr",
     "output_type": "stream",
     "text": [
      "100%|██████████| 1/1 [00:00<00:00,  6.67it/s]\n"
     ]
    },
    {
     "data": {
      "text/plain": [
       "3607"
      ]
     },
     "execution_count": 10,
     "metadata": {},
     "output_type": "execute_result"
    }
   ],
   "source": [
    "X_dict = {f\"{feat}\":[] for feat in [\"feat\"]}\n",
    "y_dict = {f\"{feat}\":[] for feat in [\"s\"]}\n",
    "\n",
    "for i in tqdm(range(dataset_size)):\n",
    "\n",
    "    X = np.load(f\"./ds_single/ds_{i}.npy\", allow_pickle=True)\n",
    "    y = np.load(f\"./ds_single/ds_label_{i}.npy\", allow_pickle=True)\n",
    "\n",
    "    ### TO Tensor\n",
    "    X = torch.Tensor(X).squeeze().unsqueeze(axis=2).type(torch.Tensor)\n",
    "    \n",
    "    y = torch.Tensor(y[:,3]).to(torch.long)\n",
    "    \n",
    "    X_dict[\"feat\"].append(X)\n",
    "    y_dict[\"s\"].append(y)    \n",
    "\n",
    "train_dataloader_dict = {f\"{feat}\":[] for feat in [\"s\"]}\n",
    "valid_dataloader_dict = {f\"{feat}\":[] for feat in [\"s\"]}\n",
    "\n",
    "g = torch.Generator()\n",
    "g.manual_seed(42)\n",
    "\n",
    "for feat in [\"s\"]:\n",
    "    X = X_dict[\"feat\"]\n",
    "    y = y_dict[feat]\n",
    "    X = torch.cat(X)\n",
    "    y = torch.cat(y)\n",
    "    dataset = AnDiDataset(X, y)\n",
    "\n",
    "    # split\n",
    "    train_set, val_set = torch.utils.data.random_split(dataset, [0.7, 0.3], generator=g)\n",
    "    \n",
    "    train_loader = DataLoader(train_set, batch_size=256, collate_fn=collate_fn, generator=g, shuffle=True)\n",
    "    \n",
    "    valid_loader = DataLoader(val_set, batch_size=64, collate_fn=collate_fn, generator=g, shuffle=True)\n",
    "\n",
    "    train_dataloader_dict[f\"{feat}\"] = train_loader\n",
    "    valid_dataloader_dict[f\"{feat}\"] = valid_loader\n",
    "\n",
    "del X, y\n",
    "import gc\n",
    "gc.collect()"
   ]
  },
  {
   "cell_type": "markdown",
   "id": "973ad55b-e183-4d39-9a54-a132db294cb5",
   "metadata": {},
   "source": [
    "# Model Training : Diffusion State\n",
    "## Default setting: resnet34(for andi) + custom warmstart scheduler + CrossEntropyLoss"
   ]
  },
  {
   "cell_type": "code",
   "execution_count": 12,
   "id": "29bf5ee1-7deb-46e2-a729-dbb7c2182085",
   "metadata": {},
   "outputs": [
    {
     "name": "stdout",
     "output_type": "stream",
     "text": [
      "Best Model Exist\n",
      "26 0.17138678006320804\n"
     ]
    },
    {
     "data": {
      "image/png": "[encoded data removed]",
      "text/plain": [
       "<Figure size 640x480 with 1 Axes>"
      ]
     },
     "metadata": {},
     "output_type": "display_data"
    }
   ],
   "source": [
    "feat = \"s\"\n",
    "\n",
    "model_name=f'predictor_{feat}_full_150'\n",
    "# resnet34 / Scheduler / FocalLoss()\n",
    "\n",
    "model = resnet34_andi(output_dim=4, output_num=1, problem_type=\"s\")\n",
    "\n",
    "criterion = nn.CrossEntropyLoss()\n",
    "\n",
    "\n",
    "train_dataloader = train_dataloader_dict[\"s\"]\n",
    "valid_dataloader = valid_dataloader_dict[\"s\"]\n",
    "\n",
    "\n",
    "\n",
    "model, total_train_loss, total_valid_loss = train(model, train_dataloader, valid_dataloader,\n",
    "                                                  criterion,  clf=True,\n",
    "                                                  # optimizer=optimizer, scheduler=scheduler,\n",
    "                                                  num_epochs=num_epochs, device=device,  model_name=model_name,\n",
    "                                                  tag=f\"{feat}\")\n",
    "if os.path.exists(f\"./model/loss/{model_name}_{feat}.npy\") and total_train_loss is None:\n",
    "    total_train_loss, total_valid_loss = np.load(f\"./model/loss/{model_name}_{feat}.npy\")\n",
    "else:\n",
    "    np.save(f\"./model/loss/{model_name}_{feat}.npy\", np.array([total_train_loss, total_valid_loss]))\n",
    "\n",
    "print(np.argmin(total_valid_loss), np.min(total_valid_loss))\n",
    "\n",
    "\n",
    "plt.plot(total_train_loss)\n",
    "plt.plot(total_valid_loss)\n",
    "plt.title(f\"{feat}\")\n",
    "plt.show()\n",
    "# plt.savefig(\"s_loss.png\")"
   ]
  }
 ],
 "metadata": {
  "kernelspec": {
   "display_name": "andi2",
   "language": "python",
   "name": "andi2"
  },
  "language_info": {
   "codemirror_mode": {
    "name": "ipython",
    "version": 3
   },
   "file_extension": ".py",
   "mimetype": "text/x-python",
   "name": "python",
   "nbconvert_exporter": "python",
   "pygments_lexer": "ipython3",
   "version": "3.10.13"
  }
 },
 "nbformat": 4,
 "nbformat_minor": 5
}
