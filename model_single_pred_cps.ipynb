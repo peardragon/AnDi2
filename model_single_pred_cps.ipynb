{
 "cells": [
  {
   "cell_type": "code",
   "execution_count": 5,
   "id": "304055d0-b9f9-42fc-8271-2b8152b81e1b",
   "metadata": {},
   "outputs": [],
   "source": [
    "import numpy as np\n",
    "import matplotlib.pyplot as plt\n",
    "import pickle\n",
    "from tqdm import tqdm\n",
    "\n",
    "import torch\n",
    "import torch.nn as nn\n",
    "import torch.optim as optim\n",
    "\n",
    "from utils.train import *\n",
    "from utils.dataloader import *\n",
    "from utils.resnet import resnet34_andi, resnet18_andi"
   ]
  },
  {
   "cell_type": "code",
   "execution_count": 6,
   "id": "891b53ca-ed0f-46d7-be44-3f171d73ae27",
   "metadata": {},
   "outputs": [],
   "source": [
    "import random\n",
    "random.seed(42)\n",
    "\n",
    "dataset_size = 1 # Challenge 150 for classifier, 200 for cp step predictor\n",
    "num_epochs = 100\n",
    "\n",
    "device = \"cuda\""
   ]
  },
  {
   "cell_type": "markdown",
   "id": "e42f4c4a-8967-4e47-ad72-c60fdceab818",
   "metadata": {},
   "source": [
    "# Change Point (CP) Detector Dataset Preparation\n",
    "## from current point, how many \"steps\" to get \"first\" change point"
   ]
  },
  {
   "cell_type": "code",
   "execution_count": 7,
   "id": "43f331d6-734e-48b1-aede-3ac78bed83d2",
   "metadata": {},
   "outputs": [
    {
     "name": "stderr",
     "output_type": "stream",
     "text": [
      "100%|██████████| 1/1 [00:00<00:00,  7.31it/s]\n"
     ]
    },
    {
     "data": {
      "text/plain": [
       "830"
      ]
     },
     "execution_count": 7,
     "metadata": {},
     "output_type": "execute_result"
    }
   ],
   "source": [
    "X_dict = {f\"{feat}\":[] for feat in [\"feat\"]}\n",
    "y_dict = {f\"{feat}\":[] for feat in [\"cp\", \"pad\"]}\n",
    "\n",
    "for i in tqdm(range(dataset_size)):\n",
    "\n",
    "    X = np.load(f\"./ds_single/ds_{i}.npy\", allow_pickle=True)\n",
    "    y = np.load(f\"./ds_single/ds_label_{i}.npy\", allow_pickle=True)\n",
    "    y_pad = np.load(f\"./ds_single/ds_pad_{i}.npy\", allow_pickle=True)\n",
    "    ### TO Tensor\n",
    "    X = torch.Tensor(X).squeeze().unsqueeze(axis=2).type(torch.Tensor)\n",
    "    \n",
    "    y_cp = torch.Tensor(y[:,4])\n",
    "    y_pad = torch.Tensor(y_pad)\n",
    "    arg = torch.argwhere(y_cp<200)\n",
    "    \n",
    "    X_dict[\"feat\"].append(X[arg].squeeze(dim=1))\n",
    "    y_dict[\"cp\"].append(y_cp[arg].squeeze(dim=1))\n",
    "    y_dict[\"pad\"].append(y_pad[arg].squeeze(dim=1))\n",
    "    \n",
    "train_dataloader_dict = {f\"{feat}\":[] for feat in [\"cp\"]}\n",
    "valid_dataloader_dict = {f\"{feat}\":[] for feat in [\"cp\"]}\n",
    "\n",
    "g = torch.Generator()\n",
    "g.manual_seed(42)\n",
    "\n",
    "for feat in [\"cp\"]:\n",
    "    X = X_dict[\"feat\"]\n",
    "    y = y_dict[feat]\n",
    "    y_pad = y_dict[\"pad\"]\n",
    "    X = torch.cat(X)\n",
    "    y = torch.cat(y)\n",
    "    y_pad = torch.cat(y_pad)\n",
    "    y_step = y-y_pad # prev_pad + step\n",
    "    dataset = AnDiDataset(X, y_step)\n",
    "\n",
    "    # ## split\n",
    "    train_set, val_set = torch.utils.data.random_split(dataset, [0.7, 0.3], generator=g)\n",
    "    \n",
    "    train_loader = DataLoader(train_set, batch_size=256, collate_fn=collate_fn, generator=g, shuffle=True)\n",
    "    \n",
    "    valid_loader = DataLoader(val_set, batch_size=64, collate_fn=collate_fn, generator=g, shuffle=True)\n",
    "\n",
    "    train_dataloader_dict[f\"{feat}\"] = train_loader\n",
    "    valid_dataloader_dict[f\"{feat}\"] = valid_loader\n",
    "\n",
    "del X, y, y_pad\n",
    "import gc\n",
    "gc.collect()"
   ]
  },
  {
   "cell_type": "markdown",
   "id": "e188e90b-644e-4080-89bd-056b6f165a2a",
   "metadata": {},
   "source": [
    "# Model Training : CP Predictor\n",
    "## Default setting: resnet18(for andi) + custom warmstart scheduler + L1Loss\n",
    "use 200 dataset for training"
   ]
  },
  {
   "cell_type": "code",
   "execution_count": 8,
   "id": "69c5591e-d2ef-44f7-80ec-5391ba6464e6",
   "metadata": {
    "scrolled": true
   },
   "outputs": [
    {
     "name": "stdout",
     "output_type": "stream",
     "text": [
      "Best Model Exist\n",
      "98 3.564301811153962\n"
     ]
    },
    {
     "data": {
      "image/png": "[encoded data removed]",
      "text/plain": [
       "<Figure size 640x480 with 1 Axes>"
      ]
     },
     "metadata": {},
     "output_type": "display_data"
    }
   ],
   "source": [
    "feat = \"cp\"\n",
    "\n",
    "model_name=f'predictor_{feat}_step_full_200'\n",
    "\n",
    "\n",
    "model = resnet18_andi(output_dim=1, output_num=1, problem_type=\"cp\")\n",
    "criterion = nn.L1Loss()\n",
    "\n",
    "train_dataloader = train_dataloader_dict[\"cp\"]\n",
    "valid_dataloader = valid_dataloader_dict[\"cp\"]\n",
    "\n",
    "model, total_train_loss, total_valid_loss = train(model, train_dataloader, valid_dataloader,\n",
    "                                                  criterion, \n",
    "                                                  # optimizer=optimizer, scheduler=scheduler,\n",
    "                                                  num_epochs=num_epochs, device=device,  model_name=model_name,\n",
    "                                                  tag=f\"{feat}\")\n",
    "if os.path.exists(f\"./model/loss/{model_name}_{feat}.npy\") and total_train_loss is None:\n",
    "    total_train_loss, total_valid_loss = np.load(f\"./model/loss/{model_name}_{feat}.npy\")\n",
    "else:\n",
    "    np.save(f\"./model/loss/{model_name}_{feat}.npy\", np.array([total_train_loss, total_valid_loss]))\n",
    "\n",
    "print(np.argmin(total_valid_loss), np.min(total_valid_loss))\n",
    "\n",
    "\n",
    "plt.plot(total_train_loss)\n",
    "plt.plot(total_valid_loss)\n",
    "plt.title(f\"{feat}\")\n",
    "plt.show()"
   ]
  },
  {
   "cell_type": "markdown",
   "id": "deed8fe8-585a-4ec3-b1c9-8382f6a56a7c",
   "metadata": {},
   "source": [
    "# Change Point (CP) Existence Classifier\n",
    "## Input trajectory has CP or not"
   ]
  },
  {
   "cell_type": "code",
   "execution_count": 9,
   "id": "12166764-248f-408a-a90c-777d5fb85bca",
   "metadata": {},
   "outputs": [
    {
     "name": "stderr",
     "output_type": "stream",
     "text": [
      "100%|██████████| 1/1 [00:00<00:00,  8.55it/s]\n"
     ]
    },
    {
     "data": {
      "text/plain": [
       "3705"
      ]
     },
     "execution_count": 9,
     "metadata": {},
     "output_type": "execute_result"
    }
   ],
   "source": [
    "X_dict = {f\"{feat}\":[] for feat in [\"feat\"]}\n",
    "y_dict = {f\"{feat}\":[] for feat in [\"cp\"]}\n",
    "\n",
    "for i in tqdm(range(dataset_size)):\n",
    "\n",
    "    X = np.load(f\"./ds_single/ds_{i}.npy\", allow_pickle=True)\n",
    "    y = np.load(f\"./ds_single/ds_label_{i}.npy\", allow_pickle=True)\n",
    "\n",
    "    ### TO Tensor\n",
    "    X = torch.Tensor(X).squeeze().unsqueeze(axis=2).type(torch.Tensor)\n",
    "    \n",
    "    y_cp = torch.Tensor(y[:,4])\n",
    "    y_cp_clf = torch.where(y_cp<200, 1, 0) #cp exist = True, else False\n",
    "    # print(y_cp, y_cp_clf)\n",
    "    X_dict[\"feat\"].append(X)\n",
    "    y_dict[\"cp\"].append(y_cp_clf)\n",
    "\n",
    "train_dataloader_dict = {f\"{feat}\":[] for feat in [\"cp\"]}\n",
    "valid_dataloader_dict = {f\"{feat}\":[] for feat in [\"cp\"]}\n",
    "\n",
    "g = torch.Generator()\n",
    "g.manual_seed(42)\n",
    "\n",
    "for feat in [\"cp\"]:\n",
    "    X = X_dict[\"feat\"]\n",
    "    y = y_dict[feat]\n",
    "    X = torch.cat(X)\n",
    "    y = torch.cat(y)\n",
    "    y = y.type(torch.long)\n",
    "    dataset = AnDiDataset(X, y)\n",
    "\n",
    "    # ## split\n",
    "    train_set, val_set = torch.utils.data.random_split(dataset, [0.7, 0.3], generator=g)\n",
    "    \n",
    "    train_loader = DataLoader(train_set, batch_size=256, collate_fn=collate_fn, generator=g, shuffle=True)\n",
    "    \n",
    "    valid_loader = DataLoader(val_set, batch_size=64, collate_fn=collate_fn, generator=g, shuffle=True)\n",
    "\n",
    "    train_dataloader_dict[f\"{feat}\"] = train_loader\n",
    "    valid_dataloader_dict[f\"{feat}\"] = valid_loader\n",
    "\n",
    "del X, y\n",
    "import gc\n",
    "gc.collect()"
   ]
  },
  {
   "cell_type": "markdown",
   "id": "23a8c389-1984-4b1e-aa8a-60a8347e0033",
   "metadata": {},
   "source": [
    "# Model Training : CP Predictor\n",
    "## Default setting: resnet34(for andi) + custom warmstart scheduler + L1Loss\n",
    "use 150 dataset for training"
   ]
  },
  {
   "cell_type": "code",
   "execution_count": 10,
   "id": "3891a152-f9eb-4e17-a2f4-b0ecdb97ef6b",
   "metadata": {},
   "outputs": [
    {
     "name": "stdout",
     "output_type": "stream",
     "text": [
      "Best Model Exist\n",
      "27 0.10930371468143298\n"
     ]
    },
    {
     "data": {
      "image/png": "[encoded data removed]",
      "text/plain": [
       "<Figure size 640x480 with 1 Axes>"
      ]
     },
     "metadata": {},
     "output_type": "display_data"
    }
   ],
   "source": [
    "feat = \"cp\"\n",
    "\n",
    "model_name=f'classifier_{feat}_full_150'\n",
    "# resnet34 / Scheduler / CrossEntropyLoss ~ 95%\n",
    "\n",
    "model = resnet34_andi(output_dim=2, output_num=1, problem_type=\"s\")\n",
    "\n",
    "criterion = nn.CrossEntropyLoss()\n",
    "\n",
    "\n",
    "train_dataloader = train_dataloader_dict[\"cp\"]\n",
    "valid_dataloader = valid_dataloader_dict[\"cp\"]\n",
    "\n",
    "\n",
    "model, total_train_loss, total_valid_loss = train(model, train_dataloader, valid_dataloader,\n",
    "                                                  criterion, clf=True,\n",
    "                                                  # optimizer=optimizer, scheduler=scheduler,\n",
    "                                                  num_epochs=num_epochs, device=device,  model_name=model_name,\n",
    "                                                  tag=f\"{feat}\")\n",
    "if os.path.exists(f\"./model/loss/{model_name}_{feat}.npy\") and total_train_loss is None:\n",
    "    total_train_loss, total_valid_loss = np.load(f\"./model/loss/{model_name}_{feat}.npy\")\n",
    "else:\n",
    "    np.save(f\"./model/loss/{model_name}_{feat}.npy\", np.array([total_train_loss, total_valid_loss]))\n",
    "\n",
    "print(np.argmin(total_valid_loss), np.min(total_valid_loss))\n",
    "\n",
    "\n",
    "plt.plot(total_train_loss)\n",
    "plt.plot(total_valid_loss)\n",
    "plt.title(f\"{feat}\")\n",
    "plt.show()"
   ]
  },
  {
   "cell_type": "code",
   "execution_count": null,
   "id": "1a1b1c01-c65f-4c70-b1ab-1c40fcdf06bf",
   "metadata": {},
   "outputs": [],
   "source": []
  }
 ],
 "metadata": {
  "kernelspec": {
   "display_name": "andi2",
   "language": "python",
   "name": "andi2"
  },
  "language_info": {
   "codemirror_mode": {
    "name": "ipython",
    "version": 3
   },
   "file_extension": ".py",
   "mimetype": "text/x-python",
   "name": "python",
   "nbconvert_exporter": "python",
   "pygments_lexer": "ipython3",
   "version": "3.10.13"
  }
 },
 "nbformat": 4,
 "nbformat_minor": 5
}
