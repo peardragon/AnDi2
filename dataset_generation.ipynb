{
 "cells": [
  {
   "cell_type": "code",
   "execution_count": 1,
   "id": "070b8a6b-f035-4661-aa26-0325f8c74071",
   "metadata": {},
   "outputs": [],
   "source": [
    "from andi_datasets.models_phenom import models_phenom\n",
    "from andi_datasets.datasets_phenom import datasets_phenom\n",
    "from andi_datasets.datasets_challenge import challenge_phenom_dataset, _get_dic_andi2, _defaults_andi2\n",
    "\n",
    "# auxiliaries\n",
    "import stochastic\n",
    "import numpy as np\n",
    "import matplotlib.pyplot as plt\n",
    "import os\n",
    "from utils.utils import *\n",
    "stochastic.random.seed(42)\n",
    "np.random.seed(42)"
   ]
  },
  {
   "cell_type": "markdown",
   "id": "9155dbd4-8322-4515-81ee-2cf7f0e11b15",
   "metadata": {},
   "source": [
    "# Dataset generation under Custom experiments setting"
   ]
  },
  {
   "cell_type": "code",
   "execution_count": 2,
   "id": "e416809c-2420-4c22-928e-c7752aa3a43b",
   "metadata": {},
   "outputs": [],
   "source": [
    "MODELS = np.arange(5)\n",
    "NUM_EXP = 1000\n",
    "PATH = './dataset/' # Chose your path!\n",
    "\n",
    "dics = []\n",
    "\n",
    "for m in MODELS:   \n",
    "    dic = _get_dic_andi2(m+1)\n",
    "\n",
    "    # Fix length and number of trajectories \n",
    "    dic['T'] = 200 \n",
    "    dic['N'] = 100\n",
    "\n",
    "    dics.append(dic)\n",
    "\n",
    "for m in MODELS:   \n",
    "    dic = _get_dic_andi2(m+1)\n",
    "\n",
    "    # Fix length and number of trajectories \n",
    "    dic['T'] = 200 \n",
    "    dic['N'] = 100\n",
    "\n",
    "    #### SINGLE STATE ####\n",
    "    if m == 0:  \n",
    "        dic['alphas'] = np.array([1.5, 0.01])\n",
    "        dic['Ds'] = np.array([0.01, 0.01])\n",
    "            \n",
    "            \n",
    "    #### MULTI STATE ####\n",
    "    if m == 1:\n",
    "        # 3-state model with different alphas            \n",
    "        dic['Ds'] = np.array([[0.99818417, 0.01],\n",
    "                              [0.08012007, 0.01],\n",
    "                              [1.00012007, 0.01]])\n",
    "\n",
    "        dic['alphas'] = np.array([[0.84730977, 0.01],\n",
    "                                  [0.39134136, 0.01],\n",
    "                                  [1.51354654, 0.01]])\n",
    "\n",
    "        dic['M'] = np.array([[0.98, 0.01, 0.01],\n",
    "                             [0.01, 0.98, 0.01],\n",
    "                             [0.01, 0.01, 0.98]]) \n",
    "        \n",
    "    #### IMMOBILE TRAPS ####\n",
    "    if m == 2:\n",
    "        dic['alphas'] = np.array([1.9, 0.01])\n",
    "            \n",
    "    \n",
    "    #### DIMERIZATION ####\n",
    "    if m == 3:\n",
    "        dic['Ds'] = np.array([[1.2, 0.01],\n",
    "                              [0.02, 0.01]])\n",
    "\n",
    "        dic['alphas'] = np.array([[1.5, 0.01],\n",
    "                                  [0.5, 0.01]])\n",
    "        dic['Pu'] = 0.02\n",
    "        \n",
    "    #### CONFINEMENT ####\n",
    "    if m == 4:\n",
    "        dic['Ds'] = np.array([[1.02, 0.01],\n",
    "                              [0.01, 0.01]])\n",
    "\n",
    "        dic['alphas'] = np.array([[1.8, 0.01],\n",
    "                                  [0.9, 0.01]])\n",
    "        \n",
    "        dic['trans'] = 0.2\n",
    "\n",
    "    \n",
    "    # Add repeated fovs for the experiment\n",
    "    dics.append(dic)\n",
    "\n",
    "dics = dics * 100"
   ]
  },
  {
   "cell_type": "code",
   "execution_count": 3,
   "id": "7fd32f8f-da13-4125-ae74-6b7c875733bf",
   "metadata": {
    "scrolled": true
   },
   "outputs": [
    {
     "name": "stdout",
     "output_type": "stream",
     "text": [
      "Exist\n"
     ]
    }
   ],
   "source": [
    "dataset_size = 1 # 150 for challenge training\n",
    "for i in range(dataset_size):\n",
    "    # print(i)\n",
    "\n",
    "    PATH = f'./dataset/{i}' # Chose your path!\n",
    "    createFolder(PATH)\n",
    "    \n",
    "    if os.path.exists(f\"./dataset/{i}/ref/track_2\"):\n",
    "        print(\"Exist\")\n",
    "    else:\n",
    "        dfs_traj, labs_traj, labs_ens = challenge_phenom_dataset(save_data = True, # If to save the files\n",
    "                                                                    dics = dics, # Dictionaries with the info of each experiment (and FOV in this case)\n",
    "                                                                    path = PATH, # Parent folder where to save all data\n",
    "                                                                    return_timestep_labs = True, get_video = False, \n",
    "                                                                    num_fovs = 1, # Number of FOVs                                                                \n",
    "                                                                    num_vip=10, # Number of VIP particles\n",
    "                                                                    files_reorg = True, # We reorganize the folders for challenge structure\n",
    "                                                                    save_labels_reorg = True, # The labels for the two tasks will also be saved in the reorganization                                                                 \n",
    "                                                                    delete_raw = False # If deleting the original raw dataset\n",
    "                                                                    )\n",
    "        # manually delete\n",
    "        ls = os.listdir(PATH)\n",
    "        \n",
    "        for item in ls:\n",
    "            if item.endswith(\".txt\") or item.endswith(\".csv\"):\n",
    "                os.remove(os.path.join(PATH, item))"
   ]
  },
  {
   "cell_type": "code",
   "execution_count": null,
   "id": "51fa421b-d104-460e-b9c7-306944bf43f7",
   "metadata": {},
   "outputs": [],
   "source": []
  }
 ],
 "metadata": {
  "kernelspec": {
   "display_name": "andi2",
   "language": "python",
   "name": "andi2"
  },
  "language_info": {
   "codemirror_mode": {
    "name": "ipython",
    "version": 3
   },
   "file_extension": ".py",
   "mimetype": "text/x-python",
   "name": "python",
   "nbconvert_exporter": "python",
   "pygments_lexer": "ipython3",
   "version": "3.10.13"
  }
 },
 "nbformat": 4,
 "nbformat_minor": 5
}
