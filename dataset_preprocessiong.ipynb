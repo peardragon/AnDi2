{
 "cells": [
  {
   "cell_type": "code",
   "execution_count": 1,
   "id": "312135f6-c51e-479d-8987-277273f3f776",
   "metadata": {},
   "outputs": [],
   "source": [
    "import pandas as pd\n",
    "import matplotlib.pyplot as plt\n",
    "import numpy as np\n",
    "import pickle\n",
    "import os\n",
    "from tqdm import tqdm\n",
    "from utils.preprocessing import *\n",
    "from utils.utils import *"
   ]
  },
  {
   "cell_type": "code",
   "execution_count": 2,
   "id": "2b2fa280-9379-4d41-9b91-240e34dd894b",
   "metadata": {},
   "outputs": [],
   "source": [
    "createFolder(\"./ds/\")"
   ]
  },
  {
   "cell_type": "code",
   "execution_count": 6,
   "id": "fce4aa64-a918-4e24-8013-06304baa02eb",
   "metadata": {
    "scrolled": true
   },
   "outputs": [
    {
     "name": "stdout",
     "output_type": "stream",
     "text": [
      "./dataset/0/ref/track_2  EXIST\n",
      "DS EXIST\n"
     ]
    }
   ],
   "source": [
    "dataset_size = 1 # 150 for challenge training\n",
    "for i in (np.arange(dataset_size)):\n",
    "    base_dir = f'./dataset/{i}/ref/track_2'\n",
    "    if os.path.exists(base_dir):\n",
    "        print(base_dir, \" EXIST\")\n",
    "        # Process the data\n",
    "        if os.path.exists(f\"./ds/ds_{i}.npy\") and os.path.exists(f\"./ds/ds_traj_label_{i}.npy\") and os.path.exists(f'./ds/ds_label_{i}.pkl'):\n",
    "            print(\"DS EXIST\")\n",
    "\n",
    "        else:\n",
    "            all_traj_labels, all_trajectories, all_labels = read_and_process_data(base_dir)\n",
    "            np.save(f\"./ds/ds_{i}.npy\", all_trajectories)\n",
    "            np.save(f\"./ds/ds_traj_label_{i}.npy\", all_traj_labels)\n",
    "            \n",
    "            with open(f'./ds/ds_label_{i}.pkl', 'wb') as f:\n",
    "                pickle.dump(all_labels, f)"
   ]
  },
  {
   "cell_type": "code",
   "execution_count": 7,
   "id": "413a78e4-f5a5-4f45-afe5-6ca85b7847b1",
   "metadata": {},
   "outputs": [],
   "source": [
    "createFolder(\"./ds_single/\")"
   ]
  },
  {
   "cell_type": "code",
   "execution_count": 10,
   "id": "99d391b3-4b74-4b78-b202-9f83db2c5d5e",
   "metadata": {},
   "outputs": [
    {
     "name": "stdout",
     "output_type": "stream",
     "text": [
      "DS Single EXIST\n"
     ]
    }
   ],
   "source": [
    "# Define the base directory\n",
    "for i in (np.arange(dataset_size)):\n",
    "    if os.path.exists(f\"./ds_single/ds_{i}.npy\") and os.path.exists(f\"./ds_single/ds_label_{i}.npy\"):\n",
    "        print(\"DS Single EXIST\")\n",
    "        continue\n",
    "    else:\n",
    "        if os.path.exists(f\"./ds/ds_{i}.npy\") and os.path.exists(f'./ds/ds_label_{i}.pkl'):\n",
    "            trajs = np.load(f\"./ds/ds_{i}.npy\", allow_pickle=True)\n",
    "            with open(f'./ds/ds_label_{i}.pkl', 'rb') as f:\n",
    "                labels = pickle.load(f)\n",
    "            total_traj_sep = []\n",
    "            total_label_sep = []\n",
    "            total_pad_sep = []\n",
    "            num_cp_list = []\n",
    "            for traj, label in zip(trajs, labels):\n",
    "                num_cp = len(label[-1])-1\n",
    "                traj_list, label_list, pad_list = traj_preprocessing_sep(traj, label)\n",
    "                total_traj_sep.extend(traj_list)\n",
    "                total_label_sep.extend(label_list)\n",
    "                total_pad_sep.extend(pad_list)\n",
    "                num_cp_list.append(num_cp)\n",
    "    \n",
    "            np.save(f\"./ds_single/ds_{i}.npy\", total_traj_sep)\n",
    "            np.save(f\"./ds_single/ds_label_{i}.npy\", total_label_sep)\n",
    "            np.save(f\"./ds_single/ds_pad_{i}.npy\", total_pad_sep)\n",
    "            np.save(f\"./ds_single/ds_cp_{i}.npy\", num_cp_list)\n",
    "            \n",
    "        else:\n",
    "            pass\n",
    "    \n"
   ]
  },
  {
   "cell_type": "code",
   "execution_count": null,
   "id": "391b1847-9b98-4677-9104-33be7d541277",
   "metadata": {},
   "outputs": [],
   "source": []
  }
 ],
 "metadata": {
  "kernelspec": {
   "display_name": "andi2",
   "language": "python",
   "name": "andi2"
  },
  "language_info": {
   "codemirror_mode": {
    "name": "ipython",
    "version": 3
   },
   "file_extension": ".py",
   "mimetype": "text/x-python",
   "name": "python",
   "nbconvert_exporter": "python",
   "pygments_lexer": "ipython3",
   "version": "3.10.13"
  }
 },
 "nbformat": 4,
 "nbformat_minor": 5
}
